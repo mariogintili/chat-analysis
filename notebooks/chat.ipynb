{
 "cells": [
  {
   "cell_type": "markdown",
   "metadata": {},
   "source": [
    "# Chat Analysis\n",
    "\n",
    "This notebook has the chat analysis for the data provided recently\n",
    "\n",
    "Here's a small example of the stuff you can accomplish - run the codeblock below to get a count of all the rows we have in our database"
   ]
  },
  {
   "cell_type": "code",
   "execution_count": null,
   "metadata": {
    "collapsed": false
   },
   "outputs": [],
   "source": [
    "%matplotlib inline\n",
    "import numpy\n",
    "import pandas\n",
    "from sklearn import datasets\n",
    "import sqlalchemy\n",
    "import json\n",
    "import sys\n",
    "import pylab\n",
    "\n",
    "with open('../config/config.json') as data_file:\n",
    "    config = json.load(data_file)\n",
    "    conn = sqlalchemy.create_engine('postgres://' + config['development']['username'] + '@localhost/' + config['development']['database']).connect()\n",
    "    dataframe = pandas.read_sql('SELECT * from conversations;', conn);\n",
    "    print 'Total number of 24/7 chats that were open are'\n",
    "    print dataframe.shape[0]\n",
    "    print \"Out that number, we can see that only a proportion of them actually started\"\n",
    "    conversationsDict = { 'started': 0, 'failed': 0 }\n",
    "\n",
    "    for convo in dataframe['conversation']:\n",
    "        if len(json.loads(convo)) > 0:\n",
    "            conversationsDict['started'] = conversationsDict['started'] + 1;\n",
    "        else:\n",
    "            conversationsDict['failed'] = conversationsDict['failed'] + 1;\n",
    "    \n",
    "    conversationHappenedSeries = pandas.Series([conversationsDict['started'], conversationsDict['failed']], index=['started', 'abandoned'], name='24/7 Usage')\n",
    "    print conversationHappenedSeries;\n",
    "    conversationHappenedSeries.plot.pie(labels=['Started', 'Abandoned'], colors=['b', 'r'], autopct='%.2f', fontsize=20, figsize=(6, 6))\n",
    "\n"
   ]
  },
  {
   "cell_type": "code",
   "execution_count": null,
   "metadata": {
    "collapsed": true
   },
   "outputs": [],
   "source": []
  }
 ],
 "metadata": {
  "anaconda-cloud": {},
  "kernelspec": {
   "display_name": "Python [Root]",
   "language": "python",
   "name": "Python [Root]"
  },
  "language_info": {
   "codemirror_mode": {
    "name": "ipython",
    "version": 2
   },
   "file_extension": ".py",
   "mimetype": "text/x-python",
   "name": "python",
   "nbconvert_exporter": "python",
   "pygments_lexer": "ipython2",
   "version": "2.7.12"
  }
 },
 "nbformat": 4,
 "nbformat_minor": 0
}
