{
 "cells": [
  {
   "cell_type": "markdown",
   "metadata": {},
   "source": [
    "# Chat Analysis\n",
    "\n",
    "This notebook has the chat analysis for the data provided recently\n",
    "\n",
    "Here's a small example of the stuff you can accomplish - run the codeblock below to get a count of all the rows we have in our database"
   ]
  },
  {
   "cell_type": "code",
   "execution_count": 8,
   "metadata": {
    "collapsed": false
   },
   "outputs": [
    {
     "name": "stdout",
     "output_type": "stream",
     "text": [
      "Total number of records to analyse is\n",
      "2164\n"
     ]
    }
   ],
   "source": [
    "import numpy\n",
    "import pandas\n",
    "from sklearn import datasets\n",
    "import sqlalchemy\n",
    "import json\n",
    "import sys\n",
    "\n",
    "with open('../config/config.json') as data_file:\n",
    "    config = json.load(data_file)\n",
    "    conn = sqlalchemy.create_engine('postgres://' + config['development']['username'] + '@localhost/' + config['development']['database']).connect()\n",
    "    dataframe = pandas.read_sql('SELECT * from conversations;', conn);\n",
    "    print 'Total number of records to analyse is'\n",
    "    print dataframe.shape[0]\n",
    "\n"
   ]
  }
 ],
 "metadata": {
  "anaconda-cloud": {},
  "kernelspec": {
   "display_name": "Python [Root]",
   "language": "python",
   "name": "Python [Root]"
  },
  "language_info": {
   "codemirror_mode": {
    "name": "ipython",
    "version": 2
   },
   "file_extension": ".py",
   "mimetype": "text/x-python",
   "name": "python",
   "nbconvert_exporter": "python",
   "pygments_lexer": "ipython2",
   "version": "2.7.12"
  }
 },
 "nbformat": 4,
 "nbformat_minor": 0
}
